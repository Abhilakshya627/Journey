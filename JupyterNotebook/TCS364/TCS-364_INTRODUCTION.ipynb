{
 "cells": [
  {
   "cell_type": "code",
   "execution_count": 1,
   "id": "a9d2658d",
   "metadata": {},
   "outputs": [
    {
     "data": {
      "text/plain": [
       "5"
      ]
     },
     "execution_count": 1,
     "metadata": {},
     "output_type": "execute_result"
    }
   ],
   "source": [
    "2+3"
   ]
  },
  {
   "cell_type": "code",
   "execution_count": 4,
   "id": "be1b3bf2",
   "metadata": {},
   "outputs": [
    {
     "data": {
      "text/plain": [
       "10"
      ]
     },
     "execution_count": 4,
     "metadata": {},
     "output_type": "execute_result"
    }
   ],
   "source": [
    "10"
   ]
  },
  {
   "cell_type": "code",
   "execution_count": 5,
   "id": "8e102546",
   "metadata": {},
   "outputs": [],
   "source": [
    "#FIRST PROGRAM"
   ]
  },
  {
   "cell_type": "code",
   "execution_count": 6,
   "id": "ac76b1ea",
   "metadata": {},
   "outputs": [
    {
     "data": {
      "text/plain": [
       "'\\nFIRST\\n'"
      ]
     },
     "execution_count": 6,
     "metadata": {},
     "output_type": "execute_result"
    }
   ],
   "source": [
    "'''\n",
    "FIRST\n",
    "'''"
   ]
  },
  {
   "cell_type": "code",
   "execution_count": 1,
   "id": "a399b28a",
   "metadata": {},
   "outputs": [],
   "source": [
    "import numpy as np"
   ]
  },
  {
   "cell_type": "code",
   "execution_count": 6,
   "id": "7763eda7",
   "metadata": {},
   "outputs": [],
   "source": [
    "X=np.array([1.0,2.0,3.0,4.0,5.0])\n",
    "Y=np.array([200,300,400,500,600])"
   ]
  },
  {
   "cell_type": "code",
   "execution_count": 7,
   "id": "9c301d36",
   "metadata": {},
   "outputs": [],
   "source": [
    "m=len(X)"
   ]
  },
  {
   "cell_type": "code",
   "execution_count": 8,
   "id": "daa2f2bd",
   "metadata": {},
   "outputs": [
    {
     "name": "stdout",
     "output_type": "stream",
     "text": [
      "no. of training examples are: 5\n"
     ]
    }
   ],
   "source": [
    "print(f\"no. of training examples are: {m}\")"
   ]
  },
  {
   "cell_type": "code",
   "execution_count": 10,
   "id": "6d58f811",
   "metadata": {},
   "outputs": [
    {
     "name": "stdout",
     "output_type": "stream",
     "text": [
      "(1.0,200)\n",
      "(2.0,300)\n",
      "(3.0,400)\n",
      "(4.0,500)\n",
      "(5.0,600)\n"
     ]
    }
   ],
   "source": [
    "for i in range(m):\n",
    "    print(f\"({X[i]},{Y[i]})\")\n",
    "    "
   ]
  },
  {
   "cell_type": "code",
   "execution_count": 11,
   "id": "e62a4fc6",
   "metadata": {},
   "outputs": [],
   "source": [
    "import matplotlib.pyplot as plt"
   ]
  },
  {
   "cell_type": "code",
   "execution_count": 24,
   "id": "276e3d23",
   "metadata": {},
   "outputs": [
    {
     "data": {
      "image/png": "[encoded data removed]",
      "text/plain": [
       "<Figure size 640x480 with 1 Axes>"
      ]
     },
     "metadata": {},
     "output_type": "display_data"
    }
   ],
   "source": [
    "plt.scatter(X,Y,marker='o',c='red',linestyle='dashed')\n",
    "plt.xlabel(\"Size\")\n",
    "plt.ylabel(\"Price\")\n",
    "plt.legend([\"data_input\"])\n",
    "plt.show()\n"
   ]
  },
  {
   "cell_type": "code",
   "execution_count": 1,
   "id": "712afec5",
   "metadata": {},
   "outputs": [
    {
     "name": "stdout",
     "output_type": "stream",
     "text": [
      "Requirement already satisfied: nltk in c:\\users\\ashwi\\anaconda3\\lib\\site-packages (3.8.1)\n",
      "Requirement already satisfied: click in c:\\users\\ashwi\\anaconda3\\lib\\site-packages (from nltk) (8.0.4)\n",
      "Requirement already satisfied: joblib in c:\\users\\ashwi\\anaconda3\\lib\\site-packages (from nltk) (1.2.0)\n",
      "Requirement already satisfied: regex>=2021.8.3 in c:\\users\\ashwi\\anaconda3\\lib\\site-packages (from nltk) (2022.7.9)\n",
      "Requirement already satisfied: tqdm in c:\\users\\ashwi\\anaconda3\\lib\\site-packages (from nltk) (4.65.0)\n",
      "Requirement already satisfied: colorama in c:\\users\\ashwi\\anaconda3\\lib\\site-packages (from click->nltk) (0.4.6)\n"
     ]
    }
   ],
   "source": [
    "#Data Pre-processing\n",
    "!pip install nltk"
   ]
  },
  {
   "cell_type": "code",
   "execution_count": 12,
   "id": "739cb9b6",
   "metadata": {},
   "outputs": [],
   "source": [
    "text=\"I am student of Graphic Era (Deemed to be University). My Roll No is 1\""
   ]
  },
  {
   "cell_type": "code",
   "execution_count": 13,
   "id": "1579b8ca",
   "metadata": {},
   "outputs": [],
   "source": [
    "m=len(text)"
   ]
  },
  {
   "cell_type": "code",
   "execution_count": 14,
   "id": "2e83e22e",
   "metadata": {},
   "outputs": [
    {
     "name": "stdout",
     "output_type": "stream",
     "text": [
      "length of my corpus is:70\n"
     ]
    }
   ],
   "source": [
    "print(f\"length of my corpus is:{m}\")"
   ]
  },
  {
   "cell_type": "markdown",
   "id": "c3e12c49",
   "metadata": {},
   "source": [
    "# Sentence Tokenization(CORPUS ---> SENTENCE"
   ]
  },
  {
   "cell_type": "code",
   "execution_count": 15,
   "id": "7051f3f7",
   "metadata": {},
   "outputs": [],
   "source": [
    "from nltk.tokenize import sent_tokenize"
   ]
  },
  {
   "cell_type": "code",
   "execution_count": 16,
   "id": "54090f4c",
   "metadata": {},
   "outputs": [],
   "source": [
    "sentence=sent_tokenize(text)"
   ]
  },
  {
   "cell_type": "code",
   "execution_count": 17,
   "id": "49bd2298",
   "metadata": {},
   "outputs": [
    {
     "name": "stdout",
     "output_type": "stream",
     "text": [
      "['I am student of Graphic Era (Deemed to be University).', 'My Roll No is 1']\n"
     ]
    }
   ],
   "source": [
    "print(sentence)"
   ]
  },
  {
   "cell_type": "markdown",
   "id": "d7174672",
   "metadata": {},
   "source": [
    "# Word Tokenization"
   ]
  },
  {
   "cell_type": "code",
   "execution_count": 27,
   "id": "4c31a67e",
   "metadata": {},
   "outputs": [],
   "source": [
    "from nltk.tokenize import word_tokenize"
   ]
  },
  {
   "cell_type": "code",
   "execution_count": 28,
   "id": "13ff06bd",
   "metadata": {},
   "outputs": [],
   "source": [
    "words=word_tokenize(text)"
   ]
  },
  {
   "cell_type": "code",
   "execution_count": 29,
   "id": "8af70f50",
   "metadata": {},
   "outputs": [
    {
     "name": "stdout",
     "output_type": "stream",
     "text": [
      "['I', 'am', 'student', 'of', 'Graphic', 'Era', '(', 'Deemed', 'to', 'be', 'University', ')', '.', 'My', 'Roll', 'No', 'is', '1']\n"
     ]
    }
   ],
   "source": [
    "print(words)"
   ]
  },
  {
   "cell_type": "code",
   "execution_count": 30,
   "id": "5debf595",
   "metadata": {},
   "outputs": [],
   "source": [
    "# for i in sentence:\n",
    "#     words=word_tokenize(i)\n",
    "#     print(words)\n",
    "    "
   ]
  },
  {
   "cell_type": "code",
   "execution_count": 31,
   "id": "7576b424",
   "metadata": {},
   "outputs": [],
   "source": [
    "words=list(map(str.lower,words))"
   ]
  },
  {
   "cell_type": "code",
   "execution_count": 32,
   "id": "dddeca66",
   "metadata": {},
   "outputs": [
    {
     "data": {
      "text/plain": [
       "['i',\n",
       " 'am',\n",
       " 'student',\n",
       " 'of',\n",
       " 'graphic',\n",
       " 'era',\n",
       " '(',\n",
       " 'deemed',\n",
       " 'to',\n",
       " 'be',\n",
       " 'university',\n",
       " ')',\n",
       " '.',\n",
       " 'my',\n",
       " 'roll',\n",
       " 'no',\n",
       " 'is',\n",
       " '1']"
      ]
     },
     "execution_count": 32,
     "metadata": {},
     "output_type": "execute_result"
    }
   ],
   "source": [
    "words"
   ]
  },
  {
   "cell_type": "markdown",
   "id": "47e4c060",
   "metadata": {},
   "source": [
    "# Remove DUPLICATES"
   ]
  },
  {
   "cell_type": "code",
   "execution_count": 33,
   "id": "842875e5",
   "metadata": {},
   "outputs": [],
   "source": [
    "words=list(set(words))"
   ]
  },
  {
   "cell_type": "code",
   "execution_count": 34,
   "id": "e1f6fab1",
   "metadata": {},
   "outputs": [
    {
     "data": {
      "text/plain": [
       "['student',\n",
       " 'graphic',\n",
       " ')',\n",
       " 'to',\n",
       " 'be',\n",
       " 'am',\n",
       " '.',\n",
       " 'my',\n",
       " '(',\n",
       " 'roll',\n",
       " 'no',\n",
       " 'is',\n",
       " '1',\n",
       " 'of',\n",
       " 'i',\n",
       " 'deemed',\n",
       " 'university',\n",
       " 'era']"
      ]
     },
     "execution_count": 34,
     "metadata": {},
     "output_type": "execute_result"
    }
   ],
   "source": [
    "words"
   ]
  },
  {
   "cell_type": "markdown",
   "id": "ce9fe03a",
   "metadata": {},
   "source": [
    "# Remove puntuation and numbers"
   ]
  },
  {
   "cell_type": "code",
   "execution_count": 35,
   "id": "4993f95f",
   "metadata": {},
   "outputs": [],
   "source": [
    "alpha_words=[]\n",
    "\n",
    "for word in words:\n",
    "    if word.isalpha():\n",
    "        alpha_words.append(word)\n",
    "        \n"
   ]
  },
  {
   "cell_type": "code",
   "execution_count": 36,
   "id": "a4397b74",
   "metadata": {},
   "outputs": [
    {
     "data": {
      "text/plain": [
       "['student',\n",
       " 'graphic',\n",
       " 'to',\n",
       " 'be',\n",
       " 'am',\n",
       " 'my',\n",
       " 'roll',\n",
       " 'no',\n",
       " 'is',\n",
       " 'of',\n",
       " 'i',\n",
       " 'deemed',\n",
       " 'university',\n",
       " 'era']"
      ]
     },
     "execution_count": 36,
     "metadata": {},
     "output_type": "execute_result"
    }
   ],
   "source": [
    "alpha_words"
   ]
  },
  {
   "cell_type": "code",
   "execution_count": 37,
   "id": "4efa1a7e",
   "metadata": {},
   "outputs": [],
   "source": [
    "from nltk.corpus import stopwords"
   ]
  },
  {
   "cell_type": "code",
   "execution_count": 39,
   "id": "2982e16b",
   "metadata": {},
   "outputs": [
    {
     "data": {
      "text/plain": [
       "['i', 'me', 'my', 'myself', 'we', 'our', 'ours', 'ourselves', 'you', \"you're\"]"
      ]
     },
     "execution_count": 39,
     "metadata": {},
     "output_type": "execute_result"
    }
   ],
   "source": [
    "stopwords.words('english')[:10]"
   ]
  },
  {
   "cell_type": "code",
   "execution_count": null,
   "id": "cb9ee8ad",
   "metadata": {},
   "outputs": [],
   "source": [
    "# nltk.download('stopwords')"
   ]
  },
  {
   "cell_type": "code",
   "execution_count": 50,
   "id": "0b16918b",
   "metadata": {},
   "outputs": [],
   "source": [
    "filter_words=[]\n",
    "for word in alpha_words:\n",
    "    if word not in stopwords.words('english'):\n",
    "        filter_words.append(word)\n",
    "        "
   ]
  },
  {
   "cell_type": "code",
   "execution_count": 51,
   "id": "75dce55b",
   "metadata": {},
   "outputs": [
    {
     "data": {
      "text/plain": [
       "['student', 'graphic', 'roll', 'deemed', 'university', 'era']"
      ]
     },
     "execution_count": 51,
     "metadata": {},
     "output_type": "execute_result"
    }
   ],
   "source": [
    "filter_words"
   ]
  },
  {
   "cell_type": "markdown",
   "id": "78a540ed",
   "metadata": {},
   "source": [
    "# Steemming and Lemmatization"
   ]
  },
  {
   "cell_type": "code",
   "execution_count": 43,
   "id": "f38514ca",
   "metadata": {},
   "outputs": [],
   "source": [
    "from nltk.stem import PorterStemmer\n"
   ]
  },
  {
   "cell_type": "code",
   "execution_count": 44,
   "id": "9ae44026",
   "metadata": {},
   "outputs": [],
   "source": [
    "ps=PorterStemmer()"
   ]
  },
  {
   "cell_type": "code",
   "execution_count": 49,
   "id": "566ecd7d",
   "metadata": {},
   "outputs": [
    {
     "data": {
      "text/plain": [
       "'taught'"
      ]
     },
     "execution_count": 49,
     "metadata": {},
     "output_type": "execute_result"
    }
   ],
   "source": [
    "ps.stem('taught')"
   ]
  },
  {
   "cell_type": "code",
   "execution_count": 52,
   "id": "f528cc41",
   "metadata": {},
   "outputs": [
    {
     "name": "stdout",
     "output_type": "stream",
     "text": [
      " Original word:student,After steemmimg:student \n",
      " Original word:graphic,After steemmimg:graphic \n",
      " Original word:roll,After steemmimg:roll \n",
      " Original word:deemed,After steemmimg:deem \n",
      " Original word:university,After steemmimg:univers \n",
      " Original word:era,After steemmimg:era \n"
     ]
    }
   ],
   "source": [
    "for word in filter_words:\n",
    "    print(f\" Original word:{word},After steemmimg:{ps.stem(word)} \")"
   ]
  },
  {
   "cell_type": "code",
   "execution_count": 53,
   "id": "ffd0cfea",
   "metadata": {},
   "outputs": [],
   "source": [
    "from nltk.stem import WordNetLemmatizer"
   ]
  },
  {
   "cell_type": "code",
   "execution_count": 54,
   "id": "17d06a5a",
   "metadata": {},
   "outputs": [],
   "source": [
    "wl=WordNetLemmatizer()"
   ]
  },
  {
   "cell_type": "code",
   "execution_count": 61,
   "id": "9ed67a14",
   "metadata": {},
   "outputs": [
    {
     "data": {
      "text/plain": [
       "'good'"
      ]
     },
     "execution_count": 61,
     "metadata": {},
     "output_type": "execute_result"
    }
   ],
   "source": [
    "wl.lemmatize(\"better\",'a')"
   ]
  },
  {
   "cell_type": "code",
   "execution_count": 62,
   "id": "5543f9b4",
   "metadata": {},
   "outputs": [],
   "source": [
    "clean_text=[]\n",
    "\n",
    "for word in filter_words:\n",
    "    clean_text.append(wl.lemmatize(word))\n",
    "    "
   ]
  },
  {
   "cell_type": "code",
   "execution_count": 63,
   "id": "fbf67a95",
   "metadata": {},
   "outputs": [
    {
     "data": {
      "text/plain": [
       "['student', 'graphic', 'roll', 'deemed', 'university', 'era']"
      ]
     },
     "execution_count": 63,
     "metadata": {},
     "output_type": "execute_result"
    }
   ],
   "source": [
    "clean_text"
   ]
  },
  {
   "cell_type": "code",
   "execution_count": null,
   "id": "5372fa5a",
   "metadata": {},
   "outputs": [],
   "source": []
  }
 ],
 "metadata": {
  "kernelspec": {
   "display_name": "Python 3 (ipykernel)",
   "language": "python",
   "name": "python3"
  },
  "language_info": {
   "codemirror_mode": {
    "name": "ipython",
    "version": 3
   },
   "file_extension": ".py",
   "mimetype": "text/x-python",
   "name": "python",
   "nbconvert_exporter": "python",
   "pygments_lexer": "ipython3",
   "version": "3.11.5"
  }
 },
 "nbformat": 4,
 "nbformat_minor": 5
}
